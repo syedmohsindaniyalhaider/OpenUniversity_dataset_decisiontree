{
  "nbformat": 4,
  "nbformat_minor": 0,
  "metadata": {
    "colab": {
      "name": "Assigment2.ipynb",
      "provenance": [],
      "authorship_tag": "ABX9TyMZ/eSn37aj8gv45p+GzXlo",
      "include_colab_link": true
    },
    "kernelspec": {
      "name": "python3",
      "display_name": "Python 3"
    },
    "language_info": {
      "name": "python"
    }
  },
  "cells": [
    {
      "cell_type": "markdown",
      "metadata": {
        "id": "view-in-github",
        "colab_type": "text"
      },
      "source": [
        "<a href=\"https://colab.research.google.com/github/syedmohsindaniyalhaider/OpenUniversity_dataset_decisiontree/blob/main/Assigment2.ipynb\" target=\"_parent\"><img src=\"https://colab.research.google.com/assets/colab-badge.svg\" alt=\"Open In Colab\"/></a>"
      ]
    },
    {
      "cell_type": "code",
      "metadata": {
        "id": "7vQQ3anTgTSS"
      },
      "source": [
        "import numpy as np\n",
        "import pandas as pd\n",
        "import seaborn as sns\n",
        "import matplotlib.pyplot as plt"
      ],
      "execution_count": 1,
      "outputs": []
    },
    {
      "cell_type": "code",
      "metadata": {
        "id": "bLs4xSp35dMq"
      },
      "source": [
        "# !pip install chefboost"
      ],
      "execution_count": 2,
      "outputs": []
    },
    {
      "cell_type": "code",
      "metadata": {
        "colab": {
          "base_uri": "https://localhost:8080/"
        },
        "id": "sjm5n6ADg1Tb",
        "outputId": "57a17a1f-b1da-4fc3-b5e9-d7fd1ac68907"
      },
      "source": [
        "from google.colab import drive\n",
        "drive.mount('/content/drive')"
      ],
      "execution_count": 3,
      "outputs": [
        {
          "output_type": "stream",
          "name": "stdout",
          "text": [
            "Mounted at /content/drive\n"
          ]
        }
      ]
    },
    {
      "cell_type": "code",
      "metadata": {
        "id": "56-HB82Fg4Nv"
      },
      "source": [
        "studAss = pd.read_csv('/content/drive/MyDrive/DE/studentAssessment.csv')\n",
        "studInfo = pd.read_csv('/content/drive/MyDrive/DE/studentInfo.csv')\n",
        "studVle = pd.read_csv('/content/drive/MyDrive/DE/studentVle.csv')"
      ],
      "execution_count": 4,
      "outputs": []
    },
    {
      "cell_type": "code",
      "metadata": {
        "colab": {
          "base_uri": "https://localhost:8080/",
          "height": 204
        },
        "id": "wf1NdrsxEwds",
        "outputId": "73202c4b-2048-470b-8dcd-def75ca9ada6"
      },
      "source": [
        "studAss.head()"
      ],
      "execution_count": 5,
      "outputs": [
        {
          "output_type": "execute_result",
          "data": {
            "text/html": [
              "<div>\n",
              "<style scoped>\n",
              "    .dataframe tbody tr th:only-of-type {\n",
              "        vertical-align: middle;\n",
              "    }\n",
              "\n",
              "    .dataframe tbody tr th {\n",
              "        vertical-align: top;\n",
              "    }\n",
              "\n",
              "    .dataframe thead th {\n",
              "        text-align: right;\n",
              "    }\n",
              "</style>\n",
              "<table border=\"1\" class=\"dataframe\">\n",
              "  <thead>\n",
              "    <tr style=\"text-align: right;\">\n",
              "      <th></th>\n",
              "      <th>id_assessment</th>\n",
              "      <th>id_student</th>\n",
              "      <th>date_submitted</th>\n",
              "      <th>is_banked</th>\n",
              "      <th>score</th>\n",
              "    </tr>\n",
              "  </thead>\n",
              "  <tbody>\n",
              "    <tr>\n",
              "      <th>0</th>\n",
              "      <td>1752</td>\n",
              "      <td>11391</td>\n",
              "      <td>18</td>\n",
              "      <td>0</td>\n",
              "      <td>78.0</td>\n",
              "    </tr>\n",
              "    <tr>\n",
              "      <th>1</th>\n",
              "      <td>1752</td>\n",
              "      <td>28400</td>\n",
              "      <td>22</td>\n",
              "      <td>0</td>\n",
              "      <td>70.0</td>\n",
              "    </tr>\n",
              "    <tr>\n",
              "      <th>2</th>\n",
              "      <td>1752</td>\n",
              "      <td>31604</td>\n",
              "      <td>17</td>\n",
              "      <td>0</td>\n",
              "      <td>72.0</td>\n",
              "    </tr>\n",
              "    <tr>\n",
              "      <th>3</th>\n",
              "      <td>1752</td>\n",
              "      <td>32885</td>\n",
              "      <td>26</td>\n",
              "      <td>0</td>\n",
              "      <td>69.0</td>\n",
              "    </tr>\n",
              "    <tr>\n",
              "      <th>4</th>\n",
              "      <td>1752</td>\n",
              "      <td>38053</td>\n",
              "      <td>19</td>\n",
              "      <td>0</td>\n",
              "      <td>79.0</td>\n",
              "    </tr>\n",
              "  </tbody>\n",
              "</table>\n",
              "</div>"
            ],
            "text/plain": [
              "   id_assessment  id_student  date_submitted  is_banked  score\n",
              "0           1752       11391              18          0   78.0\n",
              "1           1752       28400              22          0   70.0\n",
              "2           1752       31604              17          0   72.0\n",
              "3           1752       32885              26          0   69.0\n",
              "4           1752       38053              19          0   79.0"
            ]
          },
          "metadata": {},
          "execution_count": 5
        }
      ]
    },
    {
      "cell_type": "code",
      "metadata": {
        "colab": {
          "base_uri": "https://localhost:8080/",
          "height": 204
        },
        "id": "mY6MVzwyE4O-",
        "outputId": "0c77f027-03bd-470f-d440-fd2c6295f5a7"
      },
      "source": [
        "studVle.head()"
      ],
      "execution_count": 6,
      "outputs": [
        {
          "output_type": "execute_result",
          "data": {
            "text/html": [
              "<div>\n",
              "<style scoped>\n",
              "    .dataframe tbody tr th:only-of-type {\n",
              "        vertical-align: middle;\n",
              "    }\n",
              "\n",
              "    .dataframe tbody tr th {\n",
              "        vertical-align: top;\n",
              "    }\n",
              "\n",
              "    .dataframe thead th {\n",
              "        text-align: right;\n",
              "    }\n",
              "</style>\n",
              "<table border=\"1\" class=\"dataframe\">\n",
              "  <thead>\n",
              "    <tr style=\"text-align: right;\">\n",
              "      <th></th>\n",
              "      <th>code_module</th>\n",
              "      <th>code_presentation</th>\n",
              "      <th>id_student</th>\n",
              "      <th>id_site</th>\n",
              "      <th>date</th>\n",
              "      <th>sum_click</th>\n",
              "    </tr>\n",
              "  </thead>\n",
              "  <tbody>\n",
              "    <tr>\n",
              "      <th>0</th>\n",
              "      <td>AAA</td>\n",
              "      <td>2013J</td>\n",
              "      <td>28400</td>\n",
              "      <td>546652</td>\n",
              "      <td>-10</td>\n",
              "      <td>4</td>\n",
              "    </tr>\n",
              "    <tr>\n",
              "      <th>1</th>\n",
              "      <td>AAA</td>\n",
              "      <td>2013J</td>\n",
              "      <td>28400</td>\n",
              "      <td>546652</td>\n",
              "      <td>-10</td>\n",
              "      <td>1</td>\n",
              "    </tr>\n",
              "    <tr>\n",
              "      <th>2</th>\n",
              "      <td>AAA</td>\n",
              "      <td>2013J</td>\n",
              "      <td>28400</td>\n",
              "      <td>546652</td>\n",
              "      <td>-10</td>\n",
              "      <td>1</td>\n",
              "    </tr>\n",
              "    <tr>\n",
              "      <th>3</th>\n",
              "      <td>AAA</td>\n",
              "      <td>2013J</td>\n",
              "      <td>28400</td>\n",
              "      <td>546614</td>\n",
              "      <td>-10</td>\n",
              "      <td>11</td>\n",
              "    </tr>\n",
              "    <tr>\n",
              "      <th>4</th>\n",
              "      <td>AAA</td>\n",
              "      <td>2013J</td>\n",
              "      <td>28400</td>\n",
              "      <td>546714</td>\n",
              "      <td>-10</td>\n",
              "      <td>1</td>\n",
              "    </tr>\n",
              "  </tbody>\n",
              "</table>\n",
              "</div>"
            ],
            "text/plain": [
              "  code_module code_presentation  id_student  id_site  date  sum_click\n",
              "0         AAA             2013J       28400   546652   -10          4\n",
              "1         AAA             2013J       28400   546652   -10          1\n",
              "2         AAA             2013J       28400   546652   -10          1\n",
              "3         AAA             2013J       28400   546614   -10         11\n",
              "4         AAA             2013J       28400   546714   -10          1"
            ]
          },
          "metadata": {},
          "execution_count": 6
        }
      ]
    },
    {
      "cell_type": "code",
      "metadata": {
        "colab": {
          "base_uri": "https://localhost:8080/",
          "height": 360
        },
        "id": "XLTwUxUoE7H6",
        "outputId": "01696831-73f3-4a07-bcfe-64e3c47c3289"
      },
      "source": [
        "studInfo.head()"
      ],
      "execution_count": 7,
      "outputs": [
        {
          "output_type": "execute_result",
          "data": {
            "text/html": [
              "<div>\n",
              "<style scoped>\n",
              "    .dataframe tbody tr th:only-of-type {\n",
              "        vertical-align: middle;\n",
              "    }\n",
              "\n",
              "    .dataframe tbody tr th {\n",
              "        vertical-align: top;\n",
              "    }\n",
              "\n",
              "    .dataframe thead th {\n",
              "        text-align: right;\n",
              "    }\n",
              "</style>\n",
              "<table border=\"1\" class=\"dataframe\">\n",
              "  <thead>\n",
              "    <tr style=\"text-align: right;\">\n",
              "      <th></th>\n",
              "      <th>code_module</th>\n",
              "      <th>code_presentation</th>\n",
              "      <th>id_student</th>\n",
              "      <th>gender</th>\n",
              "      <th>region</th>\n",
              "      <th>highest_education</th>\n",
              "      <th>imd_band</th>\n",
              "      <th>age_band</th>\n",
              "      <th>num_of_prev_attempts</th>\n",
              "      <th>studied_credits</th>\n",
              "      <th>disability</th>\n",
              "      <th>final_result</th>\n",
              "    </tr>\n",
              "  </thead>\n",
              "  <tbody>\n",
              "    <tr>\n",
              "      <th>0</th>\n",
              "      <td>AAA</td>\n",
              "      <td>2013J</td>\n",
              "      <td>11391</td>\n",
              "      <td>M</td>\n",
              "      <td>East Anglian Region</td>\n",
              "      <td>HE Qualification</td>\n",
              "      <td>90-100%</td>\n",
              "      <td>55&lt;=</td>\n",
              "      <td>0</td>\n",
              "      <td>240</td>\n",
              "      <td>N</td>\n",
              "      <td>Pass</td>\n",
              "    </tr>\n",
              "    <tr>\n",
              "      <th>1</th>\n",
              "      <td>AAA</td>\n",
              "      <td>2013J</td>\n",
              "      <td>28400</td>\n",
              "      <td>F</td>\n",
              "      <td>Scotland</td>\n",
              "      <td>HE Qualification</td>\n",
              "      <td>20-30%</td>\n",
              "      <td>35-55</td>\n",
              "      <td>0</td>\n",
              "      <td>60</td>\n",
              "      <td>N</td>\n",
              "      <td>Pass</td>\n",
              "    </tr>\n",
              "    <tr>\n",
              "      <th>2</th>\n",
              "      <td>AAA</td>\n",
              "      <td>2013J</td>\n",
              "      <td>30268</td>\n",
              "      <td>F</td>\n",
              "      <td>North Western Region</td>\n",
              "      <td>A Level or Equivalent</td>\n",
              "      <td>30-40%</td>\n",
              "      <td>35-55</td>\n",
              "      <td>0</td>\n",
              "      <td>60</td>\n",
              "      <td>Y</td>\n",
              "      <td>Withdrawn</td>\n",
              "    </tr>\n",
              "    <tr>\n",
              "      <th>3</th>\n",
              "      <td>AAA</td>\n",
              "      <td>2013J</td>\n",
              "      <td>31604</td>\n",
              "      <td>F</td>\n",
              "      <td>South East Region</td>\n",
              "      <td>A Level or Equivalent</td>\n",
              "      <td>50-60%</td>\n",
              "      <td>35-55</td>\n",
              "      <td>0</td>\n",
              "      <td>60</td>\n",
              "      <td>N</td>\n",
              "      <td>Pass</td>\n",
              "    </tr>\n",
              "    <tr>\n",
              "      <th>4</th>\n",
              "      <td>AAA</td>\n",
              "      <td>2013J</td>\n",
              "      <td>32885</td>\n",
              "      <td>F</td>\n",
              "      <td>West Midlands Region</td>\n",
              "      <td>Lower Than A Level</td>\n",
              "      <td>50-60%</td>\n",
              "      <td>0-35</td>\n",
              "      <td>0</td>\n",
              "      <td>60</td>\n",
              "      <td>N</td>\n",
              "      <td>Pass</td>\n",
              "    </tr>\n",
              "  </tbody>\n",
              "</table>\n",
              "</div>"
            ],
            "text/plain": [
              "  code_module code_presentation  ...  disability final_result\n",
              "0         AAA             2013J  ...           N         Pass\n",
              "1         AAA             2013J  ...           N         Pass\n",
              "2         AAA             2013J  ...           Y    Withdrawn\n",
              "3         AAA             2013J  ...           N         Pass\n",
              "4         AAA             2013J  ...           N         Pass\n",
              "\n",
              "[5 rows x 12 columns]"
            ]
          },
          "metadata": {},
          "execution_count": 7
        }
      ]
    },
    {
      "cell_type": "code",
      "metadata": {
        "id": "hbRxEtBWhdC7"
      },
      "source": [
        "df1 = studVle\n",
        "df2 = studAss\n",
        "df3 = studInfo"
      ],
      "execution_count": 8,
      "outputs": []
    },
    {
      "cell_type": "code",
      "metadata": {
        "id": "o_IC6IByhkP_"
      },
      "source": [
        "df1 = df1.drop(['date', 'id_site','code_module','code_presentation'], axis = 1)\n",
        "df2 = df2.drop(['date_submitted','is_banked'], axis = 1)\n",
        "df3 = df3.drop(['code_module','code_presentation','highest_education','imd_band','age_band'], axis = 1)"
      ],
      "execution_count": 9,
      "outputs": []
    },
    {
      "cell_type": "code",
      "metadata": {
        "colab": {
          "base_uri": "https://localhost:8080/"
        },
        "id": "WRyRIjtViGPv",
        "outputId": "12595be1-eaa9-41ae-f267-a3dd4c236f90"
      },
      "source": [
        "df1.shape, df2.shape, df3.shape"
      ],
      "execution_count": 10,
      "outputs": [
        {
          "output_type": "execute_result",
          "data": {
            "text/plain": [
              "((10655280, 2), (173912, 3), (32593, 7))"
            ]
          },
          "metadata": {},
          "execution_count": 10
        }
      ]
    },
    {
      "cell_type": "code",
      "metadata": {
        "colab": {
          "base_uri": "https://localhost:8080/",
          "height": 204
        },
        "id": "X_JUI-M2iHMc",
        "outputId": "1bee87ce-7603-4a7b-c796-2e3f9d17b05c"
      },
      "source": [
        "df1.head()"
      ],
      "execution_count": 11,
      "outputs": [
        {
          "output_type": "execute_result",
          "data": {
            "text/html": [
              "<div>\n",
              "<style scoped>\n",
              "    .dataframe tbody tr th:only-of-type {\n",
              "        vertical-align: middle;\n",
              "    }\n",
              "\n",
              "    .dataframe tbody tr th {\n",
              "        vertical-align: top;\n",
              "    }\n",
              "\n",
              "    .dataframe thead th {\n",
              "        text-align: right;\n",
              "    }\n",
              "</style>\n",
              "<table border=\"1\" class=\"dataframe\">\n",
              "  <thead>\n",
              "    <tr style=\"text-align: right;\">\n",
              "      <th></th>\n",
              "      <th>id_student</th>\n",
              "      <th>sum_click</th>\n",
              "    </tr>\n",
              "  </thead>\n",
              "  <tbody>\n",
              "    <tr>\n",
              "      <th>0</th>\n",
              "      <td>28400</td>\n",
              "      <td>4</td>\n",
              "    </tr>\n",
              "    <tr>\n",
              "      <th>1</th>\n",
              "      <td>28400</td>\n",
              "      <td>1</td>\n",
              "    </tr>\n",
              "    <tr>\n",
              "      <th>2</th>\n",
              "      <td>28400</td>\n",
              "      <td>1</td>\n",
              "    </tr>\n",
              "    <tr>\n",
              "      <th>3</th>\n",
              "      <td>28400</td>\n",
              "      <td>11</td>\n",
              "    </tr>\n",
              "    <tr>\n",
              "      <th>4</th>\n",
              "      <td>28400</td>\n",
              "      <td>1</td>\n",
              "    </tr>\n",
              "  </tbody>\n",
              "</table>\n",
              "</div>"
            ],
            "text/plain": [
              "   id_student  sum_click\n",
              "0       28400          4\n",
              "1       28400          1\n",
              "2       28400          1\n",
              "3       28400         11\n",
              "4       28400          1"
            ]
          },
          "metadata": {},
          "execution_count": 11
        }
      ]
    },
    {
      "cell_type": "code",
      "metadata": {
        "colab": {
          "base_uri": "https://localhost:8080/",
          "height": 204
        },
        "id": "2jFbZEFSiTez",
        "outputId": "9d096cc8-5b5e-414b-f876-1e193f5caf92"
      },
      "source": [
        "df2.head()"
      ],
      "execution_count": 12,
      "outputs": [
        {
          "output_type": "execute_result",
          "data": {
            "text/html": [
              "<div>\n",
              "<style scoped>\n",
              "    .dataframe tbody tr th:only-of-type {\n",
              "        vertical-align: middle;\n",
              "    }\n",
              "\n",
              "    .dataframe tbody tr th {\n",
              "        vertical-align: top;\n",
              "    }\n",
              "\n",
              "    .dataframe thead th {\n",
              "        text-align: right;\n",
              "    }\n",
              "</style>\n",
              "<table border=\"1\" class=\"dataframe\">\n",
              "  <thead>\n",
              "    <tr style=\"text-align: right;\">\n",
              "      <th></th>\n",
              "      <th>id_assessment</th>\n",
              "      <th>id_student</th>\n",
              "      <th>score</th>\n",
              "    </tr>\n",
              "  </thead>\n",
              "  <tbody>\n",
              "    <tr>\n",
              "      <th>0</th>\n",
              "      <td>1752</td>\n",
              "      <td>11391</td>\n",
              "      <td>78.0</td>\n",
              "    </tr>\n",
              "    <tr>\n",
              "      <th>1</th>\n",
              "      <td>1752</td>\n",
              "      <td>28400</td>\n",
              "      <td>70.0</td>\n",
              "    </tr>\n",
              "    <tr>\n",
              "      <th>2</th>\n",
              "      <td>1752</td>\n",
              "      <td>31604</td>\n",
              "      <td>72.0</td>\n",
              "    </tr>\n",
              "    <tr>\n",
              "      <th>3</th>\n",
              "      <td>1752</td>\n",
              "      <td>32885</td>\n",
              "      <td>69.0</td>\n",
              "    </tr>\n",
              "    <tr>\n",
              "      <th>4</th>\n",
              "      <td>1752</td>\n",
              "      <td>38053</td>\n",
              "      <td>79.0</td>\n",
              "    </tr>\n",
              "  </tbody>\n",
              "</table>\n",
              "</div>"
            ],
            "text/plain": [
              "   id_assessment  id_student  score\n",
              "0           1752       11391   78.0\n",
              "1           1752       28400   70.0\n",
              "2           1752       31604   72.0\n",
              "3           1752       32885   69.0\n",
              "4           1752       38053   79.0"
            ]
          },
          "metadata": {},
          "execution_count": 12
        }
      ]
    },
    {
      "cell_type": "code",
      "metadata": {
        "colab": {
          "base_uri": "https://localhost:8080/",
          "height": 204
        },
        "id": "uPYTiV-DiZqI",
        "outputId": "e707e776-c5ad-464b-a39a-6662741c036d"
      },
      "source": [
        "df3.head()"
      ],
      "execution_count": 13,
      "outputs": [
        {
          "output_type": "execute_result",
          "data": {
            "text/html": [
              "<div>\n",
              "<style scoped>\n",
              "    .dataframe tbody tr th:only-of-type {\n",
              "        vertical-align: middle;\n",
              "    }\n",
              "\n",
              "    .dataframe tbody tr th {\n",
              "        vertical-align: top;\n",
              "    }\n",
              "\n",
              "    .dataframe thead th {\n",
              "        text-align: right;\n",
              "    }\n",
              "</style>\n",
              "<table border=\"1\" class=\"dataframe\">\n",
              "  <thead>\n",
              "    <tr style=\"text-align: right;\">\n",
              "      <th></th>\n",
              "      <th>id_student</th>\n",
              "      <th>gender</th>\n",
              "      <th>region</th>\n",
              "      <th>num_of_prev_attempts</th>\n",
              "      <th>studied_credits</th>\n",
              "      <th>disability</th>\n",
              "      <th>final_result</th>\n",
              "    </tr>\n",
              "  </thead>\n",
              "  <tbody>\n",
              "    <tr>\n",
              "      <th>0</th>\n",
              "      <td>11391</td>\n",
              "      <td>M</td>\n",
              "      <td>East Anglian Region</td>\n",
              "      <td>0</td>\n",
              "      <td>240</td>\n",
              "      <td>N</td>\n",
              "      <td>Pass</td>\n",
              "    </tr>\n",
              "    <tr>\n",
              "      <th>1</th>\n",
              "      <td>28400</td>\n",
              "      <td>F</td>\n",
              "      <td>Scotland</td>\n",
              "      <td>0</td>\n",
              "      <td>60</td>\n",
              "      <td>N</td>\n",
              "      <td>Pass</td>\n",
              "    </tr>\n",
              "    <tr>\n",
              "      <th>2</th>\n",
              "      <td>30268</td>\n",
              "      <td>F</td>\n",
              "      <td>North Western Region</td>\n",
              "      <td>0</td>\n",
              "      <td>60</td>\n",
              "      <td>Y</td>\n",
              "      <td>Withdrawn</td>\n",
              "    </tr>\n",
              "    <tr>\n",
              "      <th>3</th>\n",
              "      <td>31604</td>\n",
              "      <td>F</td>\n",
              "      <td>South East Region</td>\n",
              "      <td>0</td>\n",
              "      <td>60</td>\n",
              "      <td>N</td>\n",
              "      <td>Pass</td>\n",
              "    </tr>\n",
              "    <tr>\n",
              "      <th>4</th>\n",
              "      <td>32885</td>\n",
              "      <td>F</td>\n",
              "      <td>West Midlands Region</td>\n",
              "      <td>0</td>\n",
              "      <td>60</td>\n",
              "      <td>N</td>\n",
              "      <td>Pass</td>\n",
              "    </tr>\n",
              "  </tbody>\n",
              "</table>\n",
              "</div>"
            ],
            "text/plain": [
              "   id_student gender  ... disability  final_result\n",
              "0       11391      M  ...          N          Pass\n",
              "1       28400      F  ...          N          Pass\n",
              "2       30268      F  ...          Y     Withdrawn\n",
              "3       31604      F  ...          N          Pass\n",
              "4       32885      F  ...          N          Pass\n",
              "\n",
              "[5 rows x 7 columns]"
            ]
          },
          "metadata": {},
          "execution_count": 13
        }
      ]
    },
    {
      "cell_type": "code",
      "metadata": {
        "id": "hWw4t3HUia2y"
      },
      "source": [
        "df = df1.merge(df2)"
      ],
      "execution_count": 14,
      "outputs": []
    },
    {
      "cell_type": "code",
      "metadata": {
        "id": "gKvEYgcyjEF3"
      },
      "source": [
        "df = df.drop_duplicates()"
      ],
      "execution_count": 15,
      "outputs": []
    },
    {
      "cell_type": "code",
      "metadata": {
        "id": "5-G24SDgkzG_"
      },
      "source": [
        "df = df.dropna()"
      ],
      "execution_count": 16,
      "outputs": []
    },
    {
      "cell_type": "code",
      "metadata": {
        "id": "xrejVR3jk2Xi"
      },
      "source": [
        "df = df.merge(df3)"
      ],
      "execution_count": 17,
      "outputs": []
    },
    {
      "cell_type": "code",
      "metadata": {
        "colab": {
          "base_uri": "https://localhost:8080/"
        },
        "id": "U10kraWSlSFp",
        "outputId": "0b3bb78a-797a-4aef-85e5-8713b9779f3f"
      },
      "source": [
        "df.shape"
      ],
      "execution_count": 18,
      "outputs": [
        {
          "output_type": "execute_result",
          "data": {
            "text/plain": [
              "(5486939, 10)"
            ]
          },
          "metadata": {},
          "execution_count": 18
        }
      ]
    },
    {
      "cell_type": "code",
      "metadata": {
        "id": "oYT2TTyumxmV"
      },
      "source": [
        "df = df.drop_duplicates()"
      ],
      "execution_count": 19,
      "outputs": []
    },
    {
      "cell_type": "code",
      "metadata": {
        "colab": {
          "base_uri": "https://localhost:8080/"
        },
        "id": "DANd5g70nbKu",
        "outputId": "ce0e167c-66a3-4092-b1f1-1e839e0e669b"
      },
      "source": [
        "df.shape"
      ],
      "execution_count": 20,
      "outputs": [
        {
          "output_type": "execute_result",
          "data": {
            "text/plain": [
              "(5199277, 10)"
            ]
          },
          "metadata": {},
          "execution_count": 20
        }
      ]
    },
    {
      "cell_type": "code",
      "metadata": {
        "colab": {
          "base_uri": "https://localhost:8080/",
          "height": 824
        },
        "id": "LqgSsIiCnmLc",
        "outputId": "26b099ce-0208-40c3-b02c-fd6bb9149034"
      },
      "source": [
        "df.head(25)"
      ],
      "execution_count": 21,
      "outputs": [
        {
          "output_type": "execute_result",
          "data": {
            "text/html": [
              "<div>\n",
              "<style scoped>\n",
              "    .dataframe tbody tr th:only-of-type {\n",
              "        vertical-align: middle;\n",
              "    }\n",
              "\n",
              "    .dataframe tbody tr th {\n",
              "        vertical-align: top;\n",
              "    }\n",
              "\n",
              "    .dataframe thead th {\n",
              "        text-align: right;\n",
              "    }\n",
              "</style>\n",
              "<table border=\"1\" class=\"dataframe\">\n",
              "  <thead>\n",
              "    <tr style=\"text-align: right;\">\n",
              "      <th></th>\n",
              "      <th>id_student</th>\n",
              "      <th>sum_click</th>\n",
              "      <th>id_assessment</th>\n",
              "      <th>score</th>\n",
              "      <th>gender</th>\n",
              "      <th>region</th>\n",
              "      <th>num_of_prev_attempts</th>\n",
              "      <th>studied_credits</th>\n",
              "      <th>disability</th>\n",
              "      <th>final_result</th>\n",
              "    </tr>\n",
              "  </thead>\n",
              "  <tbody>\n",
              "    <tr>\n",
              "      <th>0</th>\n",
              "      <td>28400</td>\n",
              "      <td>4</td>\n",
              "      <td>1752</td>\n",
              "      <td>70.0</td>\n",
              "      <td>F</td>\n",
              "      <td>Scotland</td>\n",
              "      <td>0</td>\n",
              "      <td>60</td>\n",
              "      <td>N</td>\n",
              "      <td>Pass</td>\n",
              "    </tr>\n",
              "    <tr>\n",
              "      <th>1</th>\n",
              "      <td>28400</td>\n",
              "      <td>4</td>\n",
              "      <td>1753</td>\n",
              "      <td>68.0</td>\n",
              "      <td>F</td>\n",
              "      <td>Scotland</td>\n",
              "      <td>0</td>\n",
              "      <td>60</td>\n",
              "      <td>N</td>\n",
              "      <td>Pass</td>\n",
              "    </tr>\n",
              "    <tr>\n",
              "      <th>2</th>\n",
              "      <td>28400</td>\n",
              "      <td>4</td>\n",
              "      <td>1754</td>\n",
              "      <td>70.0</td>\n",
              "      <td>F</td>\n",
              "      <td>Scotland</td>\n",
              "      <td>0</td>\n",
              "      <td>60</td>\n",
              "      <td>N</td>\n",
              "      <td>Pass</td>\n",
              "    </tr>\n",
              "    <tr>\n",
              "      <th>3</th>\n",
              "      <td>28400</td>\n",
              "      <td>4</td>\n",
              "      <td>1755</td>\n",
              "      <td>64.0</td>\n",
              "      <td>F</td>\n",
              "      <td>Scotland</td>\n",
              "      <td>0</td>\n",
              "      <td>60</td>\n",
              "      <td>N</td>\n",
              "      <td>Pass</td>\n",
              "    </tr>\n",
              "    <tr>\n",
              "      <th>4</th>\n",
              "      <td>28400</td>\n",
              "      <td>4</td>\n",
              "      <td>1756</td>\n",
              "      <td>60.0</td>\n",
              "      <td>F</td>\n",
              "      <td>Scotland</td>\n",
              "      <td>0</td>\n",
              "      <td>60</td>\n",
              "      <td>N</td>\n",
              "      <td>Pass</td>\n",
              "    </tr>\n",
              "    <tr>\n",
              "      <th>5</th>\n",
              "      <td>28400</td>\n",
              "      <td>1</td>\n",
              "      <td>1752</td>\n",
              "      <td>70.0</td>\n",
              "      <td>F</td>\n",
              "      <td>Scotland</td>\n",
              "      <td>0</td>\n",
              "      <td>60</td>\n",
              "      <td>N</td>\n",
              "      <td>Pass</td>\n",
              "    </tr>\n",
              "    <tr>\n",
              "      <th>6</th>\n",
              "      <td>28400</td>\n",
              "      <td>1</td>\n",
              "      <td>1753</td>\n",
              "      <td>68.0</td>\n",
              "      <td>F</td>\n",
              "      <td>Scotland</td>\n",
              "      <td>0</td>\n",
              "      <td>60</td>\n",
              "      <td>N</td>\n",
              "      <td>Pass</td>\n",
              "    </tr>\n",
              "    <tr>\n",
              "      <th>7</th>\n",
              "      <td>28400</td>\n",
              "      <td>1</td>\n",
              "      <td>1754</td>\n",
              "      <td>70.0</td>\n",
              "      <td>F</td>\n",
              "      <td>Scotland</td>\n",
              "      <td>0</td>\n",
              "      <td>60</td>\n",
              "      <td>N</td>\n",
              "      <td>Pass</td>\n",
              "    </tr>\n",
              "    <tr>\n",
              "      <th>8</th>\n",
              "      <td>28400</td>\n",
              "      <td>1</td>\n",
              "      <td>1755</td>\n",
              "      <td>64.0</td>\n",
              "      <td>F</td>\n",
              "      <td>Scotland</td>\n",
              "      <td>0</td>\n",
              "      <td>60</td>\n",
              "      <td>N</td>\n",
              "      <td>Pass</td>\n",
              "    </tr>\n",
              "    <tr>\n",
              "      <th>9</th>\n",
              "      <td>28400</td>\n",
              "      <td>1</td>\n",
              "      <td>1756</td>\n",
              "      <td>60.0</td>\n",
              "      <td>F</td>\n",
              "      <td>Scotland</td>\n",
              "      <td>0</td>\n",
              "      <td>60</td>\n",
              "      <td>N</td>\n",
              "      <td>Pass</td>\n",
              "    </tr>\n",
              "    <tr>\n",
              "      <th>10</th>\n",
              "      <td>28400</td>\n",
              "      <td>11</td>\n",
              "      <td>1752</td>\n",
              "      <td>70.0</td>\n",
              "      <td>F</td>\n",
              "      <td>Scotland</td>\n",
              "      <td>0</td>\n",
              "      <td>60</td>\n",
              "      <td>N</td>\n",
              "      <td>Pass</td>\n",
              "    </tr>\n",
              "    <tr>\n",
              "      <th>11</th>\n",
              "      <td>28400</td>\n",
              "      <td>11</td>\n",
              "      <td>1753</td>\n",
              "      <td>68.0</td>\n",
              "      <td>F</td>\n",
              "      <td>Scotland</td>\n",
              "      <td>0</td>\n",
              "      <td>60</td>\n",
              "      <td>N</td>\n",
              "      <td>Pass</td>\n",
              "    </tr>\n",
              "    <tr>\n",
              "      <th>12</th>\n",
              "      <td>28400</td>\n",
              "      <td>11</td>\n",
              "      <td>1754</td>\n",
              "      <td>70.0</td>\n",
              "      <td>F</td>\n",
              "      <td>Scotland</td>\n",
              "      <td>0</td>\n",
              "      <td>60</td>\n",
              "      <td>N</td>\n",
              "      <td>Pass</td>\n",
              "    </tr>\n",
              "    <tr>\n",
              "      <th>13</th>\n",
              "      <td>28400</td>\n",
              "      <td>11</td>\n",
              "      <td>1755</td>\n",
              "      <td>64.0</td>\n",
              "      <td>F</td>\n",
              "      <td>Scotland</td>\n",
              "      <td>0</td>\n",
              "      <td>60</td>\n",
              "      <td>N</td>\n",
              "      <td>Pass</td>\n",
              "    </tr>\n",
              "    <tr>\n",
              "      <th>14</th>\n",
              "      <td>28400</td>\n",
              "      <td>11</td>\n",
              "      <td>1756</td>\n",
              "      <td>60.0</td>\n",
              "      <td>F</td>\n",
              "      <td>Scotland</td>\n",
              "      <td>0</td>\n",
              "      <td>60</td>\n",
              "      <td>N</td>\n",
              "      <td>Pass</td>\n",
              "    </tr>\n",
              "    <tr>\n",
              "      <th>15</th>\n",
              "      <td>28400</td>\n",
              "      <td>8</td>\n",
              "      <td>1752</td>\n",
              "      <td>70.0</td>\n",
              "      <td>F</td>\n",
              "      <td>Scotland</td>\n",
              "      <td>0</td>\n",
              "      <td>60</td>\n",
              "      <td>N</td>\n",
              "      <td>Pass</td>\n",
              "    </tr>\n",
              "    <tr>\n",
              "      <th>16</th>\n",
              "      <td>28400</td>\n",
              "      <td>8</td>\n",
              "      <td>1753</td>\n",
              "      <td>68.0</td>\n",
              "      <td>F</td>\n",
              "      <td>Scotland</td>\n",
              "      <td>0</td>\n",
              "      <td>60</td>\n",
              "      <td>N</td>\n",
              "      <td>Pass</td>\n",
              "    </tr>\n",
              "    <tr>\n",
              "      <th>17</th>\n",
              "      <td>28400</td>\n",
              "      <td>8</td>\n",
              "      <td>1754</td>\n",
              "      <td>70.0</td>\n",
              "      <td>F</td>\n",
              "      <td>Scotland</td>\n",
              "      <td>0</td>\n",
              "      <td>60</td>\n",
              "      <td>N</td>\n",
              "      <td>Pass</td>\n",
              "    </tr>\n",
              "    <tr>\n",
              "      <th>18</th>\n",
              "      <td>28400</td>\n",
              "      <td>8</td>\n",
              "      <td>1755</td>\n",
              "      <td>64.0</td>\n",
              "      <td>F</td>\n",
              "      <td>Scotland</td>\n",
              "      <td>0</td>\n",
              "      <td>60</td>\n",
              "      <td>N</td>\n",
              "      <td>Pass</td>\n",
              "    </tr>\n",
              "    <tr>\n",
              "      <th>19</th>\n",
              "      <td>28400</td>\n",
              "      <td>8</td>\n",
              "      <td>1756</td>\n",
              "      <td>60.0</td>\n",
              "      <td>F</td>\n",
              "      <td>Scotland</td>\n",
              "      <td>0</td>\n",
              "      <td>60</td>\n",
              "      <td>N</td>\n",
              "      <td>Pass</td>\n",
              "    </tr>\n",
              "    <tr>\n",
              "      <th>20</th>\n",
              "      <td>28400</td>\n",
              "      <td>2</td>\n",
              "      <td>1752</td>\n",
              "      <td>70.0</td>\n",
              "      <td>F</td>\n",
              "      <td>Scotland</td>\n",
              "      <td>0</td>\n",
              "      <td>60</td>\n",
              "      <td>N</td>\n",
              "      <td>Pass</td>\n",
              "    </tr>\n",
              "    <tr>\n",
              "      <th>21</th>\n",
              "      <td>28400</td>\n",
              "      <td>2</td>\n",
              "      <td>1753</td>\n",
              "      <td>68.0</td>\n",
              "      <td>F</td>\n",
              "      <td>Scotland</td>\n",
              "      <td>0</td>\n",
              "      <td>60</td>\n",
              "      <td>N</td>\n",
              "      <td>Pass</td>\n",
              "    </tr>\n",
              "    <tr>\n",
              "      <th>22</th>\n",
              "      <td>28400</td>\n",
              "      <td>2</td>\n",
              "      <td>1754</td>\n",
              "      <td>70.0</td>\n",
              "      <td>F</td>\n",
              "      <td>Scotland</td>\n",
              "      <td>0</td>\n",
              "      <td>60</td>\n",
              "      <td>N</td>\n",
              "      <td>Pass</td>\n",
              "    </tr>\n",
              "    <tr>\n",
              "      <th>23</th>\n",
              "      <td>28400</td>\n",
              "      <td>2</td>\n",
              "      <td>1755</td>\n",
              "      <td>64.0</td>\n",
              "      <td>F</td>\n",
              "      <td>Scotland</td>\n",
              "      <td>0</td>\n",
              "      <td>60</td>\n",
              "      <td>N</td>\n",
              "      <td>Pass</td>\n",
              "    </tr>\n",
              "    <tr>\n",
              "      <th>24</th>\n",
              "      <td>28400</td>\n",
              "      <td>2</td>\n",
              "      <td>1756</td>\n",
              "      <td>60.0</td>\n",
              "      <td>F</td>\n",
              "      <td>Scotland</td>\n",
              "      <td>0</td>\n",
              "      <td>60</td>\n",
              "      <td>N</td>\n",
              "      <td>Pass</td>\n",
              "    </tr>\n",
              "  </tbody>\n",
              "</table>\n",
              "</div>"
            ],
            "text/plain": [
              "    id_student  sum_click  ...  disability  final_result\n",
              "0        28400          4  ...           N          Pass\n",
              "1        28400          4  ...           N          Pass\n",
              "2        28400          4  ...           N          Pass\n",
              "3        28400          4  ...           N          Pass\n",
              "4        28400          4  ...           N          Pass\n",
              "5        28400          1  ...           N          Pass\n",
              "6        28400          1  ...           N          Pass\n",
              "7        28400          1  ...           N          Pass\n",
              "8        28400          1  ...           N          Pass\n",
              "9        28400          1  ...           N          Pass\n",
              "10       28400         11  ...           N          Pass\n",
              "11       28400         11  ...           N          Pass\n",
              "12       28400         11  ...           N          Pass\n",
              "13       28400         11  ...           N          Pass\n",
              "14       28400         11  ...           N          Pass\n",
              "15       28400          8  ...           N          Pass\n",
              "16       28400          8  ...           N          Pass\n",
              "17       28400          8  ...           N          Pass\n",
              "18       28400          8  ...           N          Pass\n",
              "19       28400          8  ...           N          Pass\n",
              "20       28400          2  ...           N          Pass\n",
              "21       28400          2  ...           N          Pass\n",
              "22       28400          2  ...           N          Pass\n",
              "23       28400          2  ...           N          Pass\n",
              "24       28400          2  ...           N          Pass\n",
              "\n",
              "[25 rows x 10 columns]"
            ]
          },
          "metadata": {},
          "execution_count": 21
        }
      ]
    },
    {
      "cell_type": "code",
      "metadata": {
        "colab": {
          "base_uri": "https://localhost:8080/"
        },
        "id": "eEZkChdZGozM",
        "outputId": "f83d161b-2731-42e5-bc71-5545d0212360"
      },
      "source": [
        "df.studied_credits.value_counts()"
      ],
      "execution_count": 22,
      "outputs": [
        {
          "output_type": "execute_result",
          "data": {
            "text/plain": [
              "60     2748069\n",
              "120     942813\n",
              "90      638216\n",
              "30      487761\n",
              "150     135738\n",
              "180     104544\n",
              "240      24451\n",
              "75       19870\n",
              "210      19428\n",
              "70       17660\n",
              "100       5697\n",
              "270       5533\n",
              "130       5144\n",
              "45        4768\n",
              "80        4711\n",
              "135       4013\n",
              "160       2868\n",
              "40        2866\n",
              "300       2647\n",
              "360       2484\n",
              "105       2127\n",
              "110       2066\n",
              "140       1909\n",
              "190       1632\n",
              "330       1169\n",
              "195       1155\n",
              "220        928\n",
              "145        896\n",
              "165        829\n",
              "115        758\n",
              "85         634\n",
              "630        594\n",
              "250        575\n",
              "170        562\n",
              "50         489\n",
              "200        454\n",
              "430        418\n",
              "310        392\n",
              "325        363\n",
              "280        336\n",
              "95         330\n",
              "55         274\n",
              "235        264\n",
              "155        224\n",
              "225        129\n",
              "420        105\n",
              "65          96\n",
              "345         96\n",
              "255         68\n",
              "215         54\n",
              "205         44\n",
              "355         26\n",
              "Name: studied_credits, dtype: int64"
            ]
          },
          "metadata": {},
          "execution_count": 22
        }
      ]
    },
    {
      "cell_type": "code",
      "metadata": {
        "colab": {
          "base_uri": "https://localhost:8080/"
        },
        "id": "uyW7YIvNHHOF",
        "outputId": "ae65cd53-93ed-42b0-da41-874924e9c6ff"
      },
      "source": [
        "tbl_df = df[(df['studied_credits']  > 150)]\n",
        "tbl_df.final_result.value_counts()"
      ],
      "execution_count": 23,
      "outputs": [
        {
          "output_type": "execute_result",
          "data": {
            "text/plain": [
              "Pass           85637\n",
              "Withdrawn      40493\n",
              "Fail           31159\n",
              "Distinction    15083\n",
              "Name: final_result, dtype: int64"
            ]
          },
          "metadata": {},
          "execution_count": 23
        }
      ]
    },
    {
      "cell_type": "code",
      "metadata": {
        "colab": {
          "base_uri": "https://localhost:8080/",
          "height": 335
        },
        "id": "CPySR1U-GzMh",
        "outputId": "94477341-ed8e-4f1e-e2c1-1df4063b57eb"
      },
      "source": [
        "df[['studied_credits', 'final_result']].groupby(by='final_result').count().plot.bar();"
      ],
      "execution_count": 24,
      "outputs": [
        {
          "output_type": "display_data",
          "data": {
            "image/png": "[encoded data removed]",
            "text/plain": [
              "<Figure size 432x288 with 1 Axes>"
            ]
          },
          "metadata": {
            "needs_background": "light"
          }
        }
      ]
    },
    {
      "cell_type": "code",
      "metadata": {
        "colab": {
          "base_uri": "https://localhost:8080/",
          "height": 335
        },
        "id": "TK1jZCaSGSm7",
        "outputId": "8fe47459-8c70-4f47-bc47-6a4f4d2b36cd"
      },
      "source": [
        "df[['disability', 'final_result']].groupby(by='final_result').count().plot.bar();"
      ],
      "execution_count": 25,
      "outputs": [
        {
          "output_type": "display_data",
          "data": {
            "image/png": "[encoded data removed]",
            "text/plain": [
              "<Figure size 432x288 with 1 Axes>"
            ]
          },
          "metadata": {
            "needs_background": "light"
          }
        }
      ]
    },
    {
      "cell_type": "code",
      "metadata": {
        "colab": {
          "base_uri": "https://localhost:8080/",
          "height": 379
        },
        "id": "jrodEJCen3Mq",
        "outputId": "1f49be2c-5ea8-4da5-bc5c-758f9b5a327c"
      },
      "source": [
        "df[['id_student', 'region']].groupby(by='region').count().plot.bar();"
      ],
      "execution_count": 26,
      "outputs": [
        {
          "output_type": "display_data",
          "data": {
            "image/png": "[encoded data removed]",
            "text/plain": [
              "<Figure size 432x288 with 1 Axes>"
            ]
          },
          "metadata": {
            "needs_background": "light"
          }
        }
      ]
    },
    {
      "cell_type": "code",
      "metadata": {
        "id": "uFxDu_h2TiUz"
      },
      "source": [
        "new_df = df"
      ],
      "execution_count": 27,
      "outputs": []
    },
    {
      "cell_type": "code",
      "metadata": {
        "id": "nHpOeqIxpWqP"
      },
      "source": [
        "dis = pd.get_dummies(df.disability)\n",
        "gen = pd.get_dummies(df.gender)\n",
        "res = pd.get_dummies(df.final_result)"
      ],
      "execution_count": 28,
      "outputs": []
    },
    {
      "cell_type": "code",
      "metadata": {
        "colab": {
          "base_uri": "https://localhost:8080/"
        },
        "id": "cFf_aT92QoFw",
        "outputId": "774c83c5-2486-4356-dd2f-dd3f715547d8"
      },
      "source": [
        "df['gender'].value_counts()"
      ],
      "execution_count": 29,
      "outputs": [
        {
          "output_type": "execute_result",
          "data": {
            "text/plain": [
              "M    3359795\n",
              "F    1839482\n",
              "Name: gender, dtype: int64"
            ]
          },
          "metadata": {},
          "execution_count": 29
        }
      ]
    },
    {
      "cell_type": "code",
      "metadata": {
        "colab": {
          "base_uri": "https://localhost:8080/",
          "height": 419
        },
        "id": "vdU1WQepRAUF",
        "outputId": "66741937-3528-4065-d165-b53d04e77a34"
      },
      "source": [
        "res"
      ],
      "execution_count": 30,
      "outputs": [
        {
          "output_type": "execute_result",
          "data": {
            "text/html": [
              "<div>\n",
              "<style scoped>\n",
              "    .dataframe tbody tr th:only-of-type {\n",
              "        vertical-align: middle;\n",
              "    }\n",
              "\n",
              "    .dataframe tbody tr th {\n",
              "        vertical-align: top;\n",
              "    }\n",
              "\n",
              "    .dataframe thead th {\n",
              "        text-align: right;\n",
              "    }\n",
              "</style>\n",
              "<table border=\"1\" class=\"dataframe\">\n",
              "  <thead>\n",
              "    <tr style=\"text-align: right;\">\n",
              "      <th></th>\n",
              "      <th>Distinction</th>\n",
              "      <th>Fail</th>\n",
              "      <th>Pass</th>\n",
              "      <th>Withdrawn</th>\n",
              "    </tr>\n",
              "  </thead>\n",
              "  <tbody>\n",
              "    <tr>\n",
              "      <th>0</th>\n",
              "      <td>0</td>\n",
              "      <td>0</td>\n",
              "      <td>1</td>\n",
              "      <td>0</td>\n",
              "    </tr>\n",
              "    <tr>\n",
              "      <th>1</th>\n",
              "      <td>0</td>\n",
              "      <td>0</td>\n",
              "      <td>1</td>\n",
              "      <td>0</td>\n",
              "    </tr>\n",
              "    <tr>\n",
              "      <th>2</th>\n",
              "      <td>0</td>\n",
              "      <td>0</td>\n",
              "      <td>1</td>\n",
              "      <td>0</td>\n",
              "    </tr>\n",
              "    <tr>\n",
              "      <th>3</th>\n",
              "      <td>0</td>\n",
              "      <td>0</td>\n",
              "      <td>1</td>\n",
              "      <td>0</td>\n",
              "    </tr>\n",
              "    <tr>\n",
              "      <th>4</th>\n",
              "      <td>0</td>\n",
              "      <td>0</td>\n",
              "      <td>1</td>\n",
              "      <td>0</td>\n",
              "    </tr>\n",
              "    <tr>\n",
              "      <th>...</th>\n",
              "      <td>...</td>\n",
              "      <td>...</td>\n",
              "      <td>...</td>\n",
              "      <td>...</td>\n",
              "    </tr>\n",
              "    <tr>\n",
              "      <th>5486934</th>\n",
              "      <td>0</td>\n",
              "      <td>1</td>\n",
              "      <td>0</td>\n",
              "      <td>0</td>\n",
              "    </tr>\n",
              "    <tr>\n",
              "      <th>5486935</th>\n",
              "      <td>0</td>\n",
              "      <td>1</td>\n",
              "      <td>0</td>\n",
              "      <td>0</td>\n",
              "    </tr>\n",
              "    <tr>\n",
              "      <th>5486936</th>\n",
              "      <td>0</td>\n",
              "      <td>1</td>\n",
              "      <td>0</td>\n",
              "      <td>0</td>\n",
              "    </tr>\n",
              "    <tr>\n",
              "      <th>5486937</th>\n",
              "      <td>0</td>\n",
              "      <td>1</td>\n",
              "      <td>0</td>\n",
              "      <td>0</td>\n",
              "    </tr>\n",
              "    <tr>\n",
              "      <th>5486938</th>\n",
              "      <td>0</td>\n",
              "      <td>1</td>\n",
              "      <td>0</td>\n",
              "      <td>0</td>\n",
              "    </tr>\n",
              "  </tbody>\n",
              "</table>\n",
              "<p>5199277 rows × 4 columns</p>\n",
              "</div>"
            ],
            "text/plain": [
              "         Distinction  Fail  Pass  Withdrawn\n",
              "0                  0     0     1          0\n",
              "1                  0     0     1          0\n",
              "2                  0     0     1          0\n",
              "3                  0     0     1          0\n",
              "4                  0     0     1          0\n",
              "...              ...   ...   ...        ...\n",
              "5486934            0     1     0          0\n",
              "5486935            0     1     0          0\n",
              "5486936            0     1     0          0\n",
              "5486937            0     1     0          0\n",
              "5486938            0     1     0          0\n",
              "\n",
              "[5199277 rows x 4 columns]"
            ]
          },
          "metadata": {},
          "execution_count": 30
        }
      ]
    },
    {
      "cell_type": "code",
      "metadata": {
        "id": "XnWl4hXxTXxI"
      },
      "source": [
        "new_df = new_df.drop(['disability'], axis = 1)\n",
        "new_df = new_df.drop(['gender'], axis = 1)"
      ],
      "execution_count": 31,
      "outputs": []
    },
    {
      "cell_type": "code",
      "metadata": {
        "id": "kn-21fy5wpfc"
      },
      "source": [
        "df_one = pd.concat((dis,gen,new_df), axis=1)\n",
        "df_two = df_one.drop([\"F\"], axis=1)\n",
        "df_two = df_two.drop([\"N\"], axis=1)\n",
        "result_df = df_two.rename(columns={\"M\": \"gender\",\"Y\": \"disability\"})"
      ],
      "execution_count": 32,
      "outputs": []
    },
    {
      "cell_type": "code",
      "metadata": {
        "colab": {
          "base_uri": "https://localhost:8080/",
          "height": 419
        },
        "id": "_hq6xu-5zNKL",
        "outputId": "eb2931be-50e0-4f02-cefc-51d6d9795756"
      },
      "source": [
        "result_df"
      ],
      "execution_count": 33,
      "outputs": [
        {
          "output_type": "execute_result",
          "data": {
            "text/html": [
              "<div>\n",
              "<style scoped>\n",
              "    .dataframe tbody tr th:only-of-type {\n",
              "        vertical-align: middle;\n",
              "    }\n",
              "\n",
              "    .dataframe tbody tr th {\n",
              "        vertical-align: top;\n",
              "    }\n",
              "\n",
              "    .dataframe thead th {\n",
              "        text-align: right;\n",
              "    }\n",
              "</style>\n",
              "<table border=\"1\" class=\"dataframe\">\n",
              "  <thead>\n",
              "    <tr style=\"text-align: right;\">\n",
              "      <th></th>\n",
              "      <th>disability</th>\n",
              "      <th>gender</th>\n",
              "      <th>id_student</th>\n",
              "      <th>sum_click</th>\n",
              "      <th>id_assessment</th>\n",
              "      <th>score</th>\n",
              "      <th>region</th>\n",
              "      <th>num_of_prev_attempts</th>\n",
              "      <th>studied_credits</th>\n",
              "      <th>final_result</th>\n",
              "    </tr>\n",
              "  </thead>\n",
              "  <tbody>\n",
              "    <tr>\n",
              "      <th>0</th>\n",
              "      <td>0</td>\n",
              "      <td>0</td>\n",
              "      <td>28400</td>\n",
              "      <td>4</td>\n",
              "      <td>1752</td>\n",
              "      <td>70.0</td>\n",
              "      <td>Scotland</td>\n",
              "      <td>0</td>\n",
              "      <td>60</td>\n",
              "      <td>Pass</td>\n",
              "    </tr>\n",
              "    <tr>\n",
              "      <th>1</th>\n",
              "      <td>0</td>\n",
              "      <td>0</td>\n",
              "      <td>28400</td>\n",
              "      <td>4</td>\n",
              "      <td>1753</td>\n",
              "      <td>68.0</td>\n",
              "      <td>Scotland</td>\n",
              "      <td>0</td>\n",
              "      <td>60</td>\n",
              "      <td>Pass</td>\n",
              "    </tr>\n",
              "    <tr>\n",
              "      <th>2</th>\n",
              "      <td>0</td>\n",
              "      <td>0</td>\n",
              "      <td>28400</td>\n",
              "      <td>4</td>\n",
              "      <td>1754</td>\n",
              "      <td>70.0</td>\n",
              "      <td>Scotland</td>\n",
              "      <td>0</td>\n",
              "      <td>60</td>\n",
              "      <td>Pass</td>\n",
              "    </tr>\n",
              "    <tr>\n",
              "      <th>3</th>\n",
              "      <td>0</td>\n",
              "      <td>0</td>\n",
              "      <td>28400</td>\n",
              "      <td>4</td>\n",
              "      <td>1755</td>\n",
              "      <td>64.0</td>\n",
              "      <td>Scotland</td>\n",
              "      <td>0</td>\n",
              "      <td>60</td>\n",
              "      <td>Pass</td>\n",
              "    </tr>\n",
              "    <tr>\n",
              "      <th>4</th>\n",
              "      <td>0</td>\n",
              "      <td>0</td>\n",
              "      <td>28400</td>\n",
              "      <td>4</td>\n",
              "      <td>1756</td>\n",
              "      <td>60.0</td>\n",
              "      <td>Scotland</td>\n",
              "      <td>0</td>\n",
              "      <td>60</td>\n",
              "      <td>Pass</td>\n",
              "    </tr>\n",
              "    <tr>\n",
              "      <th>...</th>\n",
              "      <td>...</td>\n",
              "      <td>...</td>\n",
              "      <td>...</td>\n",
              "      <td>...</td>\n",
              "      <td>...</td>\n",
              "      <td>...</td>\n",
              "      <td>...</td>\n",
              "      <td>...</td>\n",
              "      <td>...</td>\n",
              "      <td>...</td>\n",
              "    </tr>\n",
              "    <tr>\n",
              "      <th>5486934</th>\n",
              "      <td>0</td>\n",
              "      <td>1</td>\n",
              "      <td>650630</td>\n",
              "      <td>30</td>\n",
              "      <td>37437</td>\n",
              "      <td>55.0</td>\n",
              "      <td>West Midlands Region</td>\n",
              "      <td>0</td>\n",
              "      <td>30</td>\n",
              "      <td>Fail</td>\n",
              "    </tr>\n",
              "    <tr>\n",
              "      <th>5486935</th>\n",
              "      <td>0</td>\n",
              "      <td>1</td>\n",
              "      <td>650630</td>\n",
              "      <td>30</td>\n",
              "      <td>37438</td>\n",
              "      <td>80.0</td>\n",
              "      <td>West Midlands Region</td>\n",
              "      <td>0</td>\n",
              "      <td>30</td>\n",
              "      <td>Fail</td>\n",
              "    </tr>\n",
              "    <tr>\n",
              "      <th>5486936</th>\n",
              "      <td>0</td>\n",
              "      <td>1</td>\n",
              "      <td>650630</td>\n",
              "      <td>30</td>\n",
              "      <td>37439</td>\n",
              "      <td>60.0</td>\n",
              "      <td>West Midlands Region</td>\n",
              "      <td>0</td>\n",
              "      <td>30</td>\n",
              "      <td>Fail</td>\n",
              "    </tr>\n",
              "    <tr>\n",
              "      <th>5486937</th>\n",
              "      <td>0</td>\n",
              "      <td>1</td>\n",
              "      <td>650630</td>\n",
              "      <td>30</td>\n",
              "      <td>37440</td>\n",
              "      <td>60.0</td>\n",
              "      <td>West Midlands Region</td>\n",
              "      <td>0</td>\n",
              "      <td>30</td>\n",
              "      <td>Fail</td>\n",
              "    </tr>\n",
              "    <tr>\n",
              "      <th>5486938</th>\n",
              "      <td>0</td>\n",
              "      <td>1</td>\n",
              "      <td>650630</td>\n",
              "      <td>30</td>\n",
              "      <td>37441</td>\n",
              "      <td>80.0</td>\n",
              "      <td>West Midlands Region</td>\n",
              "      <td>0</td>\n",
              "      <td>30</td>\n",
              "      <td>Fail</td>\n",
              "    </tr>\n",
              "  </tbody>\n",
              "</table>\n",
              "<p>5199277 rows × 10 columns</p>\n",
              "</div>"
            ],
            "text/plain": [
              "         disability  gender  ...  studied_credits  final_result\n",
              "0                 0       0  ...               60          Pass\n",
              "1                 0       0  ...               60          Pass\n",
              "2                 0       0  ...               60          Pass\n",
              "3                 0       0  ...               60          Pass\n",
              "4                 0       0  ...               60          Pass\n",
              "...             ...     ...  ...              ...           ...\n",
              "5486934           0       1  ...               30          Fail\n",
              "5486935           0       1  ...               30          Fail\n",
              "5486936           0       1  ...               30          Fail\n",
              "5486937           0       1  ...               30          Fail\n",
              "5486938           0       1  ...               30          Fail\n",
              "\n",
              "[5199277 rows x 10 columns]"
            ]
          },
          "metadata": {},
          "execution_count": 33
        }
      ]
    },
    {
      "cell_type": "code",
      "metadata": {
        "colab": {
          "base_uri": "https://localhost:8080/",
          "height": 297
        },
        "id": "1PqQ1CsxSwr2",
        "outputId": "9674087b-9a56-4af0-bcaf-d86607a52f5d"
      },
      "source": [
        "result_df.describe()"
      ],
      "execution_count": 34,
      "outputs": [
        {
          "output_type": "execute_result",
          "data": {
            "text/html": [
              "<div>\n",
              "<style scoped>\n",
              "    .dataframe tbody tr th:only-of-type {\n",
              "        vertical-align: middle;\n",
              "    }\n",
              "\n",
              "    .dataframe tbody tr th {\n",
              "        vertical-align: top;\n",
              "    }\n",
              "\n",
              "    .dataframe thead th {\n",
              "        text-align: right;\n",
              "    }\n",
              "</style>\n",
              "<table border=\"1\" class=\"dataframe\">\n",
              "  <thead>\n",
              "    <tr style=\"text-align: right;\">\n",
              "      <th></th>\n",
              "      <th>disability</th>\n",
              "      <th>gender</th>\n",
              "      <th>id_student</th>\n",
              "      <th>sum_click</th>\n",
              "      <th>id_assessment</th>\n",
              "      <th>score</th>\n",
              "      <th>num_of_prev_attempts</th>\n",
              "      <th>studied_credits</th>\n",
              "    </tr>\n",
              "  </thead>\n",
              "  <tbody>\n",
              "    <tr>\n",
              "      <th>count</th>\n",
              "      <td>5.199277e+06</td>\n",
              "      <td>5.199277e+06</td>\n",
              "      <td>5.199277e+06</td>\n",
              "      <td>5.199277e+06</td>\n",
              "      <td>5.199277e+06</td>\n",
              "      <td>5.199277e+06</td>\n",
              "      <td>5.199277e+06</td>\n",
              "      <td>5.199277e+06</td>\n",
              "    </tr>\n",
              "    <tr>\n",
              "      <th>mean</th>\n",
              "      <td>8.859809e-02</td>\n",
              "      <td>6.462043e-01</td>\n",
              "      <td>7.135371e+05</td>\n",
              "      <td>2.381395e+01</td>\n",
              "      <td>2.871367e+04</td>\n",
              "      <td>7.693723e+01</td>\n",
              "      <td>1.518436e-01</td>\n",
              "      <td>7.921685e+01</td>\n",
              "    </tr>\n",
              "    <tr>\n",
              "      <th>std</th>\n",
              "      <td>2.841628e-01</td>\n",
              "      <td>4.781468e-01</td>\n",
              "      <td>5.558667e+05</td>\n",
              "      <td>3.368373e+01</td>\n",
              "      <td>7.830699e+03</td>\n",
              "      <td>1.801132e+01</td>\n",
              "      <td>4.511846e-01</td>\n",
              "      <td>3.831003e+01</td>\n",
              "    </tr>\n",
              "    <tr>\n",
              "      <th>min</th>\n",
              "      <td>0.000000e+00</td>\n",
              "      <td>0.000000e+00</td>\n",
              "      <td>6.516000e+03</td>\n",
              "      <td>1.000000e+00</td>\n",
              "      <td>1.752000e+03</td>\n",
              "      <td>0.000000e+00</td>\n",
              "      <td>0.000000e+00</td>\n",
              "      <td>3.000000e+01</td>\n",
              "    </tr>\n",
              "    <tr>\n",
              "      <th>25%</th>\n",
              "      <td>0.000000e+00</td>\n",
              "      <td>0.000000e+00</td>\n",
              "      <td>5.117620e+05</td>\n",
              "      <td>7.000000e+00</td>\n",
              "      <td>2.429500e+04</td>\n",
              "      <td>6.800000e+01</td>\n",
              "      <td>0.000000e+00</td>\n",
              "      <td>6.000000e+01</td>\n",
              "    </tr>\n",
              "    <tr>\n",
              "      <th>50%</th>\n",
              "      <td>0.000000e+00</td>\n",
              "      <td>1.000000e+00</td>\n",
              "      <td>5.865940e+05</td>\n",
              "      <td>1.500000e+01</td>\n",
              "      <td>3.486000e+04</td>\n",
              "      <td>8.000000e+01</td>\n",
              "      <td>0.000000e+00</td>\n",
              "      <td>6.000000e+01</td>\n",
              "    </tr>\n",
              "    <tr>\n",
              "      <th>75%</th>\n",
              "      <td>0.000000e+00</td>\n",
              "      <td>1.000000e+00</td>\n",
              "      <td>6.344720e+05</td>\n",
              "      <td>3.000000e+01</td>\n",
              "      <td>3.488900e+04</td>\n",
              "      <td>9.000000e+01</td>\n",
              "      <td>0.000000e+00</td>\n",
              "      <td>9.000000e+01</td>\n",
              "    </tr>\n",
              "    <tr>\n",
              "      <th>max</th>\n",
              "      <td>1.000000e+00</td>\n",
              "      <td>1.000000e+00</td>\n",
              "      <td>2.698588e+06</td>\n",
              "      <td>6.977000e+03</td>\n",
              "      <td>3.744300e+04</td>\n",
              "      <td>1.000000e+02</td>\n",
              "      <td>6.000000e+00</td>\n",
              "      <td>6.300000e+02</td>\n",
              "    </tr>\n",
              "  </tbody>\n",
              "</table>\n",
              "</div>"
            ],
            "text/plain": [
              "         disability        gender  ...  num_of_prev_attempts  studied_credits\n",
              "count  5.199277e+06  5.199277e+06  ...          5.199277e+06     5.199277e+06\n",
              "mean   8.859809e-02  6.462043e-01  ...          1.518436e-01     7.921685e+01\n",
              "std    2.841628e-01  4.781468e-01  ...          4.511846e-01     3.831003e+01\n",
              "min    0.000000e+00  0.000000e+00  ...          0.000000e+00     3.000000e+01\n",
              "25%    0.000000e+00  0.000000e+00  ...          0.000000e+00     6.000000e+01\n",
              "50%    0.000000e+00  1.000000e+00  ...          0.000000e+00     6.000000e+01\n",
              "75%    0.000000e+00  1.000000e+00  ...          0.000000e+00     9.000000e+01\n",
              "max    1.000000e+00  1.000000e+00  ...          6.000000e+00     6.300000e+02\n",
              "\n",
              "[8 rows x 8 columns]"
            ]
          },
          "metadata": {},
          "execution_count": 34
        }
      ]
    },
    {
      "cell_type": "code",
      "metadata": {
        "colab": {
          "base_uri": "https://localhost:8080/",
          "height": 248
        },
        "id": "FF6MshUb3ZWl",
        "outputId": "e6a30c55-655a-4397-99d3-3429310f1c0d"
      },
      "source": [
        "data = result_df.groupby(\"final_result\")[\"score\"].sum()\n",
        "data.plot.pie(autopct=\"%.1f%%\");"
      ],
      "execution_count": 35,
      "outputs": [
        {
          "output_type": "display_data",
          "data": {
            "image/png": "[encoded data removed]",
            "text/plain": [
              "<Figure size 432x288 with 1 Axes>"
            ]
          },
          "metadata": {}
        }
      ]
    },
    {
      "cell_type": "code",
      "metadata": {
        "id": "cXFSEsmXY2hY"
      },
      "source": [
        "X = result_df.drop(['final_result'], axis = 1)\n",
        "X = X.drop(['region'], axis = 1)\n",
        "X = X.drop(['id_student'], axis = 1)\n",
        "X = X.drop(['id_assessment'], axis = 1)\n",
        "y = result_df['final_result']\n",
        "new_y = y"
      ],
      "execution_count": 36,
      "outputs": []
    },
    {
      "cell_type": "code",
      "metadata": {
        "colab": {
          "base_uri": "https://localhost:8080/",
          "height": 419
        },
        "id": "Rvfme24dlFC-",
        "outputId": "a3badba5-7fc6-41a7-d001-263e6524bb96"
      },
      "source": [
        "X"
      ],
      "execution_count": 37,
      "outputs": [
        {
          "output_type": "execute_result",
          "data": {
            "text/html": [
              "<div>\n",
              "<style scoped>\n",
              "    .dataframe tbody tr th:only-of-type {\n",
              "        vertical-align: middle;\n",
              "    }\n",
              "\n",
              "    .dataframe tbody tr th {\n",
              "        vertical-align: top;\n",
              "    }\n",
              "\n",
              "    .dataframe thead th {\n",
              "        text-align: right;\n",
              "    }\n",
              "</style>\n",
              "<table border=\"1\" class=\"dataframe\">\n",
              "  <thead>\n",
              "    <tr style=\"text-align: right;\">\n",
              "      <th></th>\n",
              "      <th>disability</th>\n",
              "      <th>gender</th>\n",
              "      <th>sum_click</th>\n",
              "      <th>score</th>\n",
              "      <th>num_of_prev_attempts</th>\n",
              "      <th>studied_credits</th>\n",
              "    </tr>\n",
              "  </thead>\n",
              "  <tbody>\n",
              "    <tr>\n",
              "      <th>0</th>\n",
              "      <td>0</td>\n",
              "      <td>0</td>\n",
              "      <td>4</td>\n",
              "      <td>70.0</td>\n",
              "      <td>0</td>\n",
              "      <td>60</td>\n",
              "    </tr>\n",
              "    <tr>\n",
              "      <th>1</th>\n",
              "      <td>0</td>\n",
              "      <td>0</td>\n",
              "      <td>4</td>\n",
              "      <td>68.0</td>\n",
              "      <td>0</td>\n",
              "      <td>60</td>\n",
              "    </tr>\n",
              "    <tr>\n",
              "      <th>2</th>\n",
              "      <td>0</td>\n",
              "      <td>0</td>\n",
              "      <td>4</td>\n",
              "      <td>70.0</td>\n",
              "      <td>0</td>\n",
              "      <td>60</td>\n",
              "    </tr>\n",
              "    <tr>\n",
              "      <th>3</th>\n",
              "      <td>0</td>\n",
              "      <td>0</td>\n",
              "      <td>4</td>\n",
              "      <td>64.0</td>\n",
              "      <td>0</td>\n",
              "      <td>60</td>\n",
              "    </tr>\n",
              "    <tr>\n",
              "      <th>4</th>\n",
              "      <td>0</td>\n",
              "      <td>0</td>\n",
              "      <td>4</td>\n",
              "      <td>60.0</td>\n",
              "      <td>0</td>\n",
              "      <td>60</td>\n",
              "    </tr>\n",
              "    <tr>\n",
              "      <th>...</th>\n",
              "      <td>...</td>\n",
              "      <td>...</td>\n",
              "      <td>...</td>\n",
              "      <td>...</td>\n",
              "      <td>...</td>\n",
              "      <td>...</td>\n",
              "    </tr>\n",
              "    <tr>\n",
              "      <th>5486934</th>\n",
              "      <td>0</td>\n",
              "      <td>1</td>\n",
              "      <td>30</td>\n",
              "      <td>55.0</td>\n",
              "      <td>0</td>\n",
              "      <td>30</td>\n",
              "    </tr>\n",
              "    <tr>\n",
              "      <th>5486935</th>\n",
              "      <td>0</td>\n",
              "      <td>1</td>\n",
              "      <td>30</td>\n",
              "      <td>80.0</td>\n",
              "      <td>0</td>\n",
              "      <td>30</td>\n",
              "    </tr>\n",
              "    <tr>\n",
              "      <th>5486936</th>\n",
              "      <td>0</td>\n",
              "      <td>1</td>\n",
              "      <td>30</td>\n",
              "      <td>60.0</td>\n",
              "      <td>0</td>\n",
              "      <td>30</td>\n",
              "    </tr>\n",
              "    <tr>\n",
              "      <th>5486937</th>\n",
              "      <td>0</td>\n",
              "      <td>1</td>\n",
              "      <td>30</td>\n",
              "      <td>60.0</td>\n",
              "      <td>0</td>\n",
              "      <td>30</td>\n",
              "    </tr>\n",
              "    <tr>\n",
              "      <th>5486938</th>\n",
              "      <td>0</td>\n",
              "      <td>1</td>\n",
              "      <td>30</td>\n",
              "      <td>80.0</td>\n",
              "      <td>0</td>\n",
              "      <td>30</td>\n",
              "    </tr>\n",
              "  </tbody>\n",
              "</table>\n",
              "<p>5199277 rows × 6 columns</p>\n",
              "</div>"
            ],
            "text/plain": [
              "         disability  gender  ...  num_of_prev_attempts  studied_credits\n",
              "0                 0       0  ...                     0               60\n",
              "1                 0       0  ...                     0               60\n",
              "2                 0       0  ...                     0               60\n",
              "3                 0       0  ...                     0               60\n",
              "4                 0       0  ...                     0               60\n",
              "...             ...     ...  ...                   ...              ...\n",
              "5486934           0       1  ...                     0               30\n",
              "5486935           0       1  ...                     0               30\n",
              "5486936           0       1  ...                     0               30\n",
              "5486937           0       1  ...                     0               30\n",
              "5486938           0       1  ...                     0               30\n",
              "\n",
              "[5199277 rows x 6 columns]"
            ]
          },
          "metadata": {},
          "execution_count": 37
        }
      ]
    },
    {
      "cell_type": "code",
      "metadata": {
        "colab": {
          "base_uri": "https://localhost:8080/"
        },
        "id": "5AxnIyQYlO-I",
        "outputId": "f1b03974-68c5-4a06-9161-1a8fe58abb7d"
      },
      "source": [
        "y.value_counts()"
      ],
      "execution_count": 38,
      "outputs": [
        {
          "output_type": "execute_result",
          "data": {
            "text/plain": [
              "Pass           3041915\n",
              "Distinction     895327\n",
              "Fail            686225\n",
              "Withdrawn       575810\n",
              "Name: final_result, dtype: int64"
            ]
          },
          "metadata": {},
          "execution_count": 38
        }
      ]
    },
    {
      "cell_type": "code",
      "metadata": {
        "id": "8dJ3Z5oamJkt"
      },
      "source": [
        "y = y.replace('Pass', 1)\n",
        "y = y.replace('Fail', 0)\n",
        "y = y.replace('Distinction', 2)\n",
        "y = y.replace('Withdrawn', 3)"
      ],
      "execution_count": 39,
      "outputs": []
    },
    {
      "cell_type": "code",
      "metadata": {
        "colab": {
          "base_uri": "https://localhost:8080/"
        },
        "id": "DruiNVssnvND",
        "outputId": "f139c7b6-2fc7-4dac-85f4-f3d41a44a801"
      },
      "source": [
        "y.head()"
      ],
      "execution_count": 40,
      "outputs": [
        {
          "output_type": "execute_result",
          "data": {
            "text/plain": [
              "0    1\n",
              "1    1\n",
              "2    1\n",
              "3    1\n",
              "4    1\n",
              "Name: final_result, dtype: int64"
            ]
          },
          "metadata": {},
          "execution_count": 40
        }
      ]
    },
    {
      "cell_type": "code",
      "metadata": {
        "id": "LGHFyHidn19o"
      },
      "source": [
        "from sklearn.metrics import classification_report, confusion_matrix\n",
        "from sklearn.model_selection import train_test_split\n",
        "from sklearn.preprocessing import MinMaxScaler, StandardScaler\n",
        "from sklearn import tree, metrics\n",
        "from sklearn.naive_bayes import GaussianNB"
      ],
      "execution_count": 55,
      "outputs": []
    },
    {
      "cell_type": "code",
      "metadata": {
        "id": "Qd1Hl_apoRkI"
      },
      "source": [
        "X_train, X_test, y_train, y_test = train_test_split(X, new_y, test_size=0.3, random_state = 56)"
      ],
      "execution_count": 60,
      "outputs": []
    },
    {
      "cell_type": "code",
      "metadata": {
        "id": "DA1RCwxioXNU"
      },
      "source": [
        "X1_test = X_test\n",
        "X1_train = X_train"
      ],
      "execution_count": 66,
      "outputs": []
    },
    {
      "cell_type": "code",
      "metadata": {
        "id": "DwmM-xCPsJtt"
      },
      "source": [
        "scaler1 = StandardScaler()\n",
        "scaler2 = MinMaxScaler()"
      ],
      "execution_count": 67,
      "outputs": []
    },
    {
      "cell_type": "code",
      "metadata": {
        "colab": {
          "base_uri": "https://localhost:8080/",
          "height": 419
        },
        "id": "iglTSWMOstKm",
        "outputId": "2822b4cc-a270-4be5-ae8b-9d179034d047"
      },
      "source": [
        "X1_train"
      ],
      "execution_count": 68,
      "outputs": [
        {
          "output_type": "execute_result",
          "data": {
            "text/html": [
              "<div>\n",
              "<style scoped>\n",
              "    .dataframe tbody tr th:only-of-type {\n",
              "        vertical-align: middle;\n",
              "    }\n",
              "\n",
              "    .dataframe tbody tr th {\n",
              "        vertical-align: top;\n",
              "    }\n",
              "\n",
              "    .dataframe thead th {\n",
              "        text-align: right;\n",
              "    }\n",
              "</style>\n",
              "<table border=\"1\" class=\"dataframe\">\n",
              "  <thead>\n",
              "    <tr style=\"text-align: right;\">\n",
              "      <th></th>\n",
              "      <th>disability</th>\n",
              "      <th>gender</th>\n",
              "      <th>sum_click</th>\n",
              "      <th>score</th>\n",
              "      <th>num_of_prev_attempts</th>\n",
              "      <th>studied_credits</th>\n",
              "    </tr>\n",
              "  </thead>\n",
              "  <tbody>\n",
              "    <tr>\n",
              "      <th>3535417</th>\n",
              "      <td>0</td>\n",
              "      <td>1</td>\n",
              "      <td>65</td>\n",
              "      <td>44.0</td>\n",
              "      <td>0</td>\n",
              "      <td>60</td>\n",
              "    </tr>\n",
              "    <tr>\n",
              "      <th>315769</th>\n",
              "      <td>1</td>\n",
              "      <td>0</td>\n",
              "      <td>2</td>\n",
              "      <td>59.0</td>\n",
              "      <td>3</td>\n",
              "      <td>120</td>\n",
              "    </tr>\n",
              "    <tr>\n",
              "      <th>49597</th>\n",
              "      <td>0</td>\n",
              "      <td>1</td>\n",
              "      <td>30</td>\n",
              "      <td>65.0</td>\n",
              "      <td>0</td>\n",
              "      <td>60</td>\n",
              "    </tr>\n",
              "    <tr>\n",
              "      <th>3454475</th>\n",
              "      <td>0</td>\n",
              "      <td>1</td>\n",
              "      <td>31</td>\n",
              "      <td>85.0</td>\n",
              "      <td>0</td>\n",
              "      <td>60</td>\n",
              "    </tr>\n",
              "    <tr>\n",
              "      <th>1401167</th>\n",
              "      <td>0</td>\n",
              "      <td>1</td>\n",
              "      <td>24</td>\n",
              "      <td>78.0</td>\n",
              "      <td>0</td>\n",
              "      <td>60</td>\n",
              "    </tr>\n",
              "    <tr>\n",
              "      <th>...</th>\n",
              "      <td>...</td>\n",
              "      <td>...</td>\n",
              "      <td>...</td>\n",
              "      <td>...</td>\n",
              "      <td>...</td>\n",
              "      <td>...</td>\n",
              "    </tr>\n",
              "    <tr>\n",
              "      <th>473667</th>\n",
              "      <td>0</td>\n",
              "      <td>0</td>\n",
              "      <td>10</td>\n",
              "      <td>71.0</td>\n",
              "      <td>0</td>\n",
              "      <td>60</td>\n",
              "    </tr>\n",
              "    <tr>\n",
              "      <th>4284823</th>\n",
              "      <td>0</td>\n",
              "      <td>1</td>\n",
              "      <td>40</td>\n",
              "      <td>80.0</td>\n",
              "      <td>0</td>\n",
              "      <td>90</td>\n",
              "    </tr>\n",
              "    <tr>\n",
              "      <th>4917288</th>\n",
              "      <td>0</td>\n",
              "      <td>0</td>\n",
              "      <td>23</td>\n",
              "      <td>100.0</td>\n",
              "      <td>0</td>\n",
              "      <td>120</td>\n",
              "    </tr>\n",
              "    <tr>\n",
              "      <th>4113076</th>\n",
              "      <td>0</td>\n",
              "      <td>1</td>\n",
              "      <td>71</td>\n",
              "      <td>70.0</td>\n",
              "      <td>1</td>\n",
              "      <td>120</td>\n",
              "    </tr>\n",
              "    <tr>\n",
              "      <th>1058566</th>\n",
              "      <td>0</td>\n",
              "      <td>0</td>\n",
              "      <td>25</td>\n",
              "      <td>88.0</td>\n",
              "      <td>0</td>\n",
              "      <td>30</td>\n",
              "    </tr>\n",
              "  </tbody>\n",
              "</table>\n",
              "<p>3639493 rows × 6 columns</p>\n",
              "</div>"
            ],
            "text/plain": [
              "         disability  gender  ...  num_of_prev_attempts  studied_credits\n",
              "3535417           0       1  ...                     0               60\n",
              "315769            1       0  ...                     3              120\n",
              "49597             0       1  ...                     0               60\n",
              "3454475           0       1  ...                     0               60\n",
              "1401167           0       1  ...                     0               60\n",
              "...             ...     ...  ...                   ...              ...\n",
              "473667            0       0  ...                     0               60\n",
              "4284823           0       1  ...                     0               90\n",
              "4917288           0       0  ...                     0              120\n",
              "4113076           0       1  ...                     1              120\n",
              "1058566           0       0  ...                     0               30\n",
              "\n",
              "[3639493 rows x 6 columns]"
            ]
          },
          "metadata": {},
          "execution_count": 68
        }
      ]
    },
    {
      "cell_type": "code",
      "metadata": {
        "id": "7oxLDe5EsUXd"
      },
      "source": [
        "X11_train = scaler1.fit_transform(X1_train)\n",
        "X11_test=scaler1.transform(X1_test)"
      ],
      "execution_count": 69,
      "outputs": []
    },
    {
      "cell_type": "code",
      "metadata": {
        "colab": {
          "base_uri": "https://localhost:8080/"
        },
        "id": "GHnZ-GZVsyoy",
        "outputId": "f611efcc-61a9-4638-a9a8-433374eb6c2b"
      },
      "source": [
        "X11_train"
      ],
      "execution_count": 70,
      "outputs": [
        {
          "output_type": "execute_result",
          "data": {
            "text/plain": [
              "array([[-0.31160279,  0.73996592,  1.21055513, -1.82851861, -0.33655288,\n",
              "        -0.50151517],\n",
              "       [ 3.20921388, -1.3514136 , -0.64082574, -0.99572269,  6.30981797,\n",
              "         1.06493293],\n",
              "       [-0.31160279,  0.73996592,  0.18201021, -0.66260432, -0.33655288,\n",
              "        -0.50151517],\n",
              "       ...,\n",
              "       [-0.31160279, -1.3514136 , -0.02369878,  1.28058615, -0.33655288,\n",
              "         1.06493293],\n",
              "       [-0.31160279,  0.73996592,  1.38687712, -0.38500568,  1.87890407,\n",
              "         1.06493293],\n",
              "       [-0.31160279, -1.3514136 ,  0.03507522,  0.61434942, -0.33655288,\n",
              "        -1.28473922]])"
            ]
          },
          "metadata": {},
          "execution_count": 70
        }
      ]
    },
    {
      "cell_type": "code",
      "metadata": {
        "id": "uGUw7j8VtHPQ"
      },
      "source": [
        "clf = tree.DecisionTreeClassifier(criterion='entropy')\n",
        "clf = clf.fit(X11_train, y_train)"
      ],
      "execution_count": 88,
      "outputs": []
    },
    {
      "cell_type": "code",
      "metadata": {
        "id": "Cf-z5meQtIgY"
      },
      "source": [
        "# plt.figure(figsize=(15,15))\n",
        "# tree.plot_tree(clf)"
      ],
      "execution_count": 89,
      "outputs": []
    },
    {
      "cell_type": "code",
      "metadata": {
        "id": "O050lsqWt9Tb"
      },
      "source": [
        "result_dt1=clf.predict(X11_test)"
      ],
      "execution_count": 90,
      "outputs": []
    },
    {
      "cell_type": "code",
      "metadata": {
        "colab": {
          "base_uri": "https://localhost:8080/"
        },
        "id": "yGHbx2jvMk1j",
        "outputId": "a5979e65-200b-4458-ee24-a041d2fc2799"
      },
      "source": [
        "# Model Accuracy, how often is the classifier correct?\n",
        "print(\"Accuracy:\",metrics.accuracy_score(y_test, result_dt1))"
      ],
      "execution_count": 91,
      "outputs": [
        {
          "output_type": "stream",
          "name": "stdout",
          "text": [
            "Accuracy: 0.5962235796751345\n"
          ]
        }
      ]
    },
    {
      "cell_type": "code",
      "metadata": {
        "colab": {
          "base_uri": "https://localhost:8080/"
        },
        "id": "S6BUOB4swC4Q",
        "outputId": "f764fdb2-9471-42c6-9f95-c99625540f95"
      },
      "source": [
        "print(confusion_matrix(y_test,result_dt1))\n",
        "print(\"\\n\")\n",
        "print(classification_report(y_test,result_dt1))"
      ],
      "execution_count": 75,
      "outputs": [
        {
          "output_type": "stream",
          "name": "stdout",
          "text": [
            "[[ 36644    736 231126      8]\n",
            " [  3648  21185 179605   1585]\n",
            " [ 35782  18060 857058   1462]\n",
            " [  9447  12341 149314   1783]]\n",
            "\n",
            "\n",
            "              precision    recall  f1-score   support\n",
            "\n",
            " Distinction       0.43      0.14      0.21    268514\n",
            "        Fail       0.40      0.10      0.16    206023\n",
            "        Pass       0.60      0.94      0.74    912362\n",
            "   Withdrawn       0.37      0.01      0.02    172885\n",
            "\n",
            "    accuracy                           0.59   1559784\n",
            "   macro avg       0.45      0.30      0.28   1559784\n",
            "weighted avg       0.52      0.59      0.49   1559784\n",
            "\n"
          ]
        }
      ]
    },
    {
      "cell_type": "code",
      "metadata": {
        "id": "TFc-HqLiwQtg"
      },
      "source": [
        "# config = {'algorithm': 'C4.5'}\n",
        "# model = chef.fit(c4_df.copy(), config)"
      ],
      "execution_count": 54,
      "outputs": []
    },
    {
      "cell_type": "code",
      "metadata": {
        "id": "LiMURwth6qnq"
      },
      "source": [
        "gnb = GaussianNB()\n",
        "y_pred = gnb.fit(X11_train, y_train).predict(X11_test)"
      ],
      "execution_count": 56,
      "outputs": []
    },
    {
      "cell_type": "code",
      "metadata": {
        "colab": {
          "base_uri": "https://localhost:8080/"
        },
        "id": "h88MQaa_ydFm",
        "outputId": "0895acc2-88e7-4fbf-ca6b-593cf8c3939d"
      },
      "source": [
        "# Model Accuracy, how often is the classifier correct?\n",
        "print(\"Accuracy:\",metrics.accuracy_score(y_test, y_pred))"
      ],
      "execution_count": 57,
      "outputs": [
        {
          "output_type": "stream",
          "name": "stdout",
          "text": [
            "Accuracy: 0.5139814230688352\n"
          ]
        }
      ]
    },
    {
      "cell_type": "code",
      "metadata": {
        "colab": {
          "base_uri": "https://localhost:8080/"
        },
        "id": "4aXSn9GRykoD",
        "outputId": "35cc8b7b-f7f4-41e4-a6cc-cec6f5522ee0"
      },
      "source": [
        "print(\"Number of mislabeled points out of a total %d points : %d\" % (X_test.shape[0], (y_test != y_pred).sum()))"
      ],
      "execution_count": 59,
      "outputs": [
        {
          "output_type": "stream",
          "name": "stdout",
          "text": [
            "Number of mislabeled points out of a total 1559784 points : 758084\n"
          ]
        }
      ]
    },
    {
      "cell_type": "code",
      "metadata": {
        "id": "RQM4nb0-06Vz"
      },
      "source": [
        ""
      ],
      "execution_count": null,
      "outputs": []
    }
  ]
}